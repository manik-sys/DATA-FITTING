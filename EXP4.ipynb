{
 "cells": [
  {
   "cell_type": "markdown",
   "metadata": {},
   "source": [
    "# EXP 4 - DATA FITTING"
   ]
  },
  {
   "cell_type": "code",
   "execution_count": 1,
   "metadata": {},
   "outputs": [],
   "source": [
    "from pylab import*"
   ]
  },
  {
   "cell_type": "code",
   "execution_count": 2,
   "metadata": {},
   "outputs": [],
   "source": [
    "from scipy.optimize import curve_fit"
   ]
  },
  {
   "cell_type": "code",
   "execution_count": 3,
   "metadata": {},
   "outputs": [],
   "source": [
    "x_data,y_data =loadtxt('data.txt',unpack=True) "
   ]
  },
  {
   "cell_type": "code",
   "execution_count": 4,
   "metadata": {},
   "outputs": [
    {
     "data": {
      "text/plain": [
       "array([8.299, 7.399, 6.899, 6.299, 5.499, 5.199])"
      ]
     },
     "execution_count": 4,
     "metadata": {},
     "output_type": "execute_result"
    }
   ],
   "source": [
    "x_data"
   ]
  },
  {
   "cell_type": "code",
   "execution_count": 5,
   "metadata": {},
   "outputs": [
    {
     "data": {
      "text/plain": [
       "array([3.199, 2.599, 2.25 , 1.809, 1.309, 1.119])"
      ]
     },
     "execution_count": 5,
     "metadata": {},
     "output_type": "execute_result"
    }
   ],
   "source": [
    "y_data"
   ]
  },
  {
   "cell_type": "code",
   "execution_count": 6,
   "metadata": {},
   "outputs": [],
   "source": [
    "def linearfunction(x,intercept,slope):\n",
    "    y = intercept+slope * x\n",
    "    return y"
   ]
  },
  {
   "cell_type": "code",
   "execution_count": 8,
   "metadata": {},
   "outputs": [
    {
     "data": {
      "text/plain": [
       "5"
      ]
     },
     "execution_count": 8,
     "metadata": {},
     "output_type": "execute_result"
    }
   ],
   "source": [
    "linearfunction(1,2,3)"
   ]
  },
  {
   "cell_type": "code",
   "execution_count": 9,
   "metadata": {},
   "outputs": [],
   "source": [
    "a_fit,cov=curve_fit(linearfunction,x_data,y_data)"
   ]
  },
  {
   "cell_type": "code",
   "execution_count": 10,
   "metadata": {},
   "outputs": [
    {
     "name": "stdout",
     "output_type": "stream",
     "text": [
      "[-2.40615359  0.67489826]\n"
     ]
    }
   ],
   "source": [
    "print(a_fit)"
   ]
  },
  {
   "cell_type": "code",
   "execution_count": 45,
   "metadata": {},
   "outputs": [
    {
     "name": "stdout",
     "output_type": "stream",
     "text": [
      "[[ 2.81352652e-03 -4.15417792e-04]\n",
      " [-4.15417792e-04  6.29516283e-05]]\n"
     ]
    }
   ],
   "source": [
    "print(cov)"
   ]
  },
  {
   "cell_type": "code",
   "execution_count": 46,
   "metadata": {},
   "outputs": [],
   "source": [
    "inter = popt[0]\n",
    "slope = popt[1]"
   ]
  },
  {
   "cell_type": "code",
   "execution_count": 47,
   "metadata": {},
   "outputs": [],
   "source": [
    "d_inter = sqrt(cov[0][0])\n",
    "d_slope = sqrt(cov[1][1])"
   ]
  },
  {
   "cell_type": "code",
   "execution_count": 48,
   "metadata": {},
   "outputs": [
    {
     "data": {
      "text/plain": [
       "0.007934206216589924"
      ]
     },
     "execution_count": 48,
     "metadata": {},
     "output_type": "execute_result"
    }
   ],
   "source": [
    "d_slope"
   ]
  },
  {
   "cell_type": "code",
   "execution_count": 49,
   "metadata": {},
   "outputs": [
    {
     "data": {
      "text/plain": [
       "Text(0.5, 1.0, 'plot with fit')"
      ]
     },
     "execution_count": 49,
     "metadata": {},
     "output_type": "execute_result"
    },
    {
     "data": {
      "image/png": "[encoded data removed]",
      "text/plain": [
       "<Figure size 432x288 with 1 Axes>"
      ]
     },
     "metadata": {
      "needs_background": "light"
     },
     "output_type": "display_data"
    }
   ],
   "source": [
    "plot(x_data,y_data,'ro',label='Data')\n",
    "yfit = inter + slope*x_data\n",
    "plot(x_data,yfit,label='Fit')\n",
    "legend()\n",
    "xlabel('x')\n",
    "ylabel('y')\n",
    "title('plot with fit')"
   ]
  },
  {
   "cell_type": "code",
   "execution_count": 50,
   "metadata": {},
   "outputs": [
    {
     "name": "stdout",
     "output_type": "stream",
     "text": [
      "The slope = 0.6748982556897472, with uncertainty 0.007934206216589924\n"
     ]
    }
   ],
   "source": [
    "print(f'The slope = {slope}, with uncertainty {d_slope}')"
   ]
  },
  {
   "cell_type": "code",
   "execution_count": 51,
   "metadata": {},
   "outputs": [
    {
     "name": "stdout",
     "output_type": "stream",
     "text": [
      "The intercept = -2.4061535892966415, with uncertainty 0.053042685870017224\n"
     ]
    }
   ],
   "source": [
    "print(f'The intercept = {inter}, with uncertainty {d_inter}')"
   ]
  },
  {
   "cell_type": "markdown",
   "metadata": {},
   "source": [
    "# DATA FIT WITH ERROR"
   ]
  },
  {
   "cell_type": "code",
   "execution_count": 52,
   "metadata": {},
   "outputs": [],
   "source": [
    "def linearFunc(x,intercept,slope):\n",
    " y = intercept + slope * x\n",
    " return y"
   ]
  },
  {
   "cell_type": "code",
   "execution_count": 53,
   "metadata": {},
   "outputs": [],
   "source": [
    "xdata,ydata,d_y = loadtxt('data_with_er.txt',unpack=True)"
   ]
  },
  {
   "cell_type": "code",
   "execution_count": 54,
   "metadata": {},
   "outputs": [
    {
     "name": "stdout",
     "output_type": "stream",
     "text": [
      "[8.213 7.402 6.876 5.491 5.196]\n"
     ]
    }
   ],
   "source": [
    "print(xdata)"
   ]
  },
  {
   "cell_type": "code",
   "execution_count": 55,
   "metadata": {},
   "outputs": [
    {
     "name": "stdout",
     "output_type": "stream",
     "text": [
      "[0.0971 0.0559 0.0708 0.0683 0.0893]\n"
     ]
    }
   ],
   "source": [
    "print(d_y)"
   ]
  },
  {
   "cell_type": "code",
   "execution_count": 56,
   "metadata": {},
   "outputs": [],
   "source": [
    "a_fit,cov=curve_fit(linearFunc,xdata,ydata,sigma=d_y)"
   ]
  },
  {
   "cell_type": "code",
   "execution_count": 57,
   "metadata": {},
   "outputs": [],
   "source": [
    "inter = a_fit[0] \n",
    "slope = a_fit[1]\n",
    "d_inter = sqrt(cov[0][0])\n",
    "d_slope = sqrt(cov[1][1])"
   ]
  },
  {
   "cell_type": "code",
   "execution_count": 58,
   "metadata": {},
   "outputs": [
    {
     "data": {
      "text/plain": [
       "Text(0, 0.5, 'y')"
      ]
     },
     "execution_count": 58,
     "metadata": {},
     "output_type": "execute_result"
    },
    {
     "data": {
      "image/png": "[encoded data removed]",
      "text/plain": [
       "<Figure size 432x288 with 1 Axes>"
      ]
     },
     "metadata": {
      "needs_background": "light"
     },
     "output_type": "display_data"
    }
   ],
   "source": [
    "# Create a graph showing the data.\n",
    "errorbar(xdata,ydata,yerr=d_y,fmt='r.',label='Data')\n",
    "# Compute a best fit line from the fit intercept and slope.\n",
    "yfit = inter + slope*xdata\n",
    "# Create a graph of the fit to the data. We just use the ordinary plot\n",
    "# command for this.\n",
    "plot(xdata,yfit,label='Fit')\n",
    "# Display a legend, label the x and y axes and title the graph.\n",
    "legend()\n",
    "xlabel('x')\n",
    "ylabel('y')"
   ]
  },
  {
   "cell_type": "code",
   "execution_count": 59,
   "metadata": {},
   "outputs": [
    {
     "name": "stdout",
     "output_type": "stream",
     "text": [
      "The slope = 0.6656028702881751, with uncertainty 0.03549213604200107\n",
      "The intercept = -2.3430681719234285, with uncertainty 0.239532487804196\n"
     ]
    }
   ],
   "source": [
    "print(f'The slope = {slope}, with uncertainty {d_slope}')\n",
    "print(f'The intercept = {inter}, with uncertainty {d_inter}')"
   ]
  },
  {
   "cell_type": "code",
   "execution_count": 60,
   "metadata": {},
   "outputs": [
    {
     "name": "stdout",
     "output_type": "stream",
     "text": [
      "Reduced chi^2 = 1.2633310164063059\n"
     ]
    }
   ],
   "source": [
    "chisqr = sum((ydata-linearFunc(xdata,inter,slope))**2/d_y**2)\n",
    "dof = len(ydata) - 2\n",
    "chisqr_red = chisqr/dof\n",
    "print(f'Reduced chi^2 = {chisqr_red}')"
   ]
  },
  {
   "cell_type": "markdown",
   "metadata": {},
   "source": [
    "# With DIfferefnt values"
   ]
  },
  {
   "cell_type": "code",
   "execution_count": 61,
   "metadata": {},
   "outputs": [],
   "source": [
    "def linearFunc(x,intercept,slope):\n",
    " y = intercept + slope * x\n",
    " return y"
   ]
  },
  {
   "cell_type": "code",
   "execution_count": 62,
   "metadata": {},
   "outputs": [],
   "source": [
    "xdata,ydata,d_y = loadtxt('dwe.txt',unpack=True)"
   ]
  },
  {
   "cell_type": "code",
   "execution_count": 63,
   "metadata": {},
   "outputs": [
    {
     "data": {
      "text/plain": [
       "array([8.213, 7.402, 6.876, 5.491, 5.196, 4.873, 4.422, 3.991])"
      ]
     },
     "execution_count": 63,
     "metadata": {},
     "output_type": "execute_result"
    }
   ],
   "source": [
    "xdata"
   ]
  },
  {
   "cell_type": "code",
   "execution_count": 64,
   "metadata": {},
   "outputs": [
    {
     "data": {
      "text/plain": [
       "array([3.261, 2.52 , 2.239, 1.299, 1.175, 0.911, 0.871, 0.661])"
      ]
     },
     "execution_count": 64,
     "metadata": {},
     "output_type": "execute_result"
    }
   ],
   "source": [
    "ydata"
   ]
  },
  {
   "cell_type": "code",
   "execution_count": 65,
   "metadata": {},
   "outputs": [
    {
     "data": {
      "text/plain": [
       "array([0.071, 0.059, 0.088, 0.083, 0.039, 0.055, 0.033, 0.032])"
      ]
     },
     "execution_count": 65,
     "metadata": {},
     "output_type": "execute_result"
    }
   ],
   "source": [
    "d_y"
   ]
  },
  {
   "cell_type": "code",
   "execution_count": 66,
   "metadata": {},
   "outputs": [],
   "source": [
    "a_fit,cov=curve_fit(linearFunc,xdata,ydata,sigma=d_y)"
   ]
  },
  {
   "cell_type": "code",
   "execution_count": 67,
   "metadata": {},
   "outputs": [],
   "source": [
    "inter = a_fit[0] \n",
    "slope = a_fit[1]\n",
    "d_inter = sqrt(cov[0][0])\n",
    "d_slope = sqrt(cov[1][1])"
   ]
  },
  {
   "cell_type": "code",
   "execution_count": 68,
   "metadata": {},
   "outputs": [
    {
     "name": "stdout",
     "output_type": "stream",
     "text": [
      "The slope = 0.5799850077839609, with uncertainty 0.03489511232411959\n",
      "The intercept = -1.7346908170011626, with uncertainty 0.18164974724457034\n"
     ]
    }
   ],
   "source": [
    "print(f'The slope = {slope}, with uncertainty {d_slope}')\n",
    "print(f'The intercept = {inter}, with uncertainty {d_inter}')"
   ]
  },
  {
   "cell_type": "code",
   "execution_count": 69,
   "metadata": {},
   "outputs": [
    {
     "name": "stdout",
     "output_type": "stream",
     "text": [
      "Reduced chi^2 = 6.714328193557582\n"
     ]
    }
   ],
   "source": [
    "chisqr = sum((ydata-linearFunc(xdata,inter,slope))**2/d_y**2)\n",
    "dof = len(ydata) - 2\n",
    "chisqr_red = chisqr/dof\n",
    "print(f'Reduced chi^2 = {chisqr_red}')"
   ]
  },
  {
   "cell_type": "markdown",
   "metadata": {},
   "source": []
  }
 ],
 "metadata": {
  "kernelspec": {
   "display_name": "Python 3",
   "language": "python",
   "name": "python3"
  },
  "language_info": {
   "codemirror_mode": {
    "name": "ipython",
    "version": 3
   },
   "file_extension": ".py",
   "mimetype": "text/x-python",
   "name": "python",
   "nbconvert_exporter": "python",
   "pygments_lexer": "ipython3",
   "version": "3.8.5"
  }
 },
 "nbformat": 4,
 "nbformat_minor": 4
}
